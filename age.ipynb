{
 "cells": [
  {
   "cell_type": "code",
   "execution_count": 1,
   "id": "92629c12-4cc7-43bf-8a68-fc67d7fb97d1",
   "metadata": {
    "execution": {
     "iopub.execute_input": "2024-06-13T07:09:53.392005Z",
     "iopub.status.busy": "2024-06-13T07:09:53.391901Z",
     "iopub.status.idle": "2024-06-13T07:09:54.564505Z",
     "shell.execute_reply": "2024-06-13T07:09:54.563846Z",
     "shell.execute_reply.started": "2024-06-13T07:09:53.391994Z"
    }
   },
   "outputs": [
    {
     "data": {
      "application/vnd.jupyter.widget-view+json": {
       "model_id": "6b48b9a4a1554d2cab011f8c6c3fdd82",
       "version_major": 2,
       "version_minor": 0
      },
      "text/html": [
       "Cannot show widget. You probably want to rerun the code cell above (<i>Click in the code cell, and press Shift+Enter <kbd>⇧</kbd>+<kbd>↩</kbd></i>)."
      ],
      "text/plain": [
       "Cannot show ipywidgets in text"
      ]
     },
     "metadata": {},
     "output_type": "display_data"
    }
   ],
   "source": [
    "import pandas as pd\n",
    "import solara\n",
    "\n",
    "# Load the data from CSV files\n",
    "pronouns_df = pd.read_csv(\"lithuanianapp/lithuanianapp/pronouns.csv\")\n",
    "numbers_df = pd.read_csv(\"lithuanianapp/lithuanianapp/numbers.csv\")\n",
    "\n",
    "# Function to get a random nominative pronoun and a number\n",
    "def get_random_exercise():\n",
    "    nominative_pronoun = pronouns_df.sample(1).iloc[0]\n",
    "    number_row = numbers_df.sample(1).iloc[0]\n",
    "    return nominative_pronoun, number_row\n",
    "\n",
    "# Function to fetch the dative and compound year\n",
    "def get_answer(nominative_pronoun, number_row):\n",
    "    dative = pronouns_df.loc[pronouns_df['nominative'] == nominative_pronoun['nominative'], 'dative'].values[0]\n",
    "    year_phrase = f\"{number_row['neoficialiai']} {number_row['compound']} {number_row['years']}\" if pd.notna(number_row['compound']) else f\"{number_row['neoficialiai']} {number_row['years']}\"\n",
    "    return f\"{dative.title()} {year_phrase}.\"\n",
    "\n",
    "# Solara App\n",
    "@solara.component\n",
    "def LithuanianGrammarApp():\n",
    "    # State to hold the current exercise\n",
    "    nominative_pronoun, set_nominative_pronoun = solara.use_state(None)\n",
    "    number_row, set_number_row = solara.use_state(None)\n",
    "    show_answer, set_show_answer = solara.use_state(False)\n",
    "    \n",
    "    if nominative_pronoun is None or number_row is None:\n",
    "        nominative_pronoun, number_row = get_random_exercise()\n",
    "        set_nominative_pronoun(nominative_pronoun)\n",
    "        set_number_row(number_row)\n",
    "\n",
    "    exercise_text = f\"{nominative_pronoun['nominative']}, {number_row['number']}\"\n",
    "    answer_text = get_answer(nominative_pronoun, number_row)\n",
    "    \n",
    "    # Display the exercise\n",
    "    solara.Text(exercise_text)\n",
    "    \n",
    "    # Button to reveal the answer\n",
    "    if solara.Button(\"Reveal Answer\", on_click=lambda: set_show_answer(True)):\n",
    "        if show_answer:\n",
    "            solara.Text(answer_text)\n",
    "\n",
    "\n",
    "# Display the app in the Jupyter Notebook\n",
    "LithuanianGrammarApp()"
   ]
  },
  {
   "cell_type": "code",
   "execution_count": 3,
   "id": "4a1cd316-3e08-4cb7-bb32-7f06767813be",
   "metadata": {
    "execution": {
     "iopub.execute_input": "2024-06-13T07:12:27.930051Z",
     "iopub.status.busy": "2024-06-13T07:12:27.929640Z",
     "iopub.status.idle": "2024-06-13T07:12:27.949697Z",
     "shell.execute_reply": "2024-06-13T07:12:27.949277Z",
     "shell.execute_reply.started": "2024-06-13T07:12:27.929974Z"
    }
   },
   "outputs": [
    {
     "data": {
      "application/vnd.jupyter.widget-view+json": {
       "model_id": "ee28e5c73bf14b4ea2b1d636cc0a61f3",
       "version_major": 2,
       "version_minor": 0
      },
      "text/html": [
       "Cannot show widget. You probably want to rerun the code cell above (<i>Click in the code cell, and press Shift+Enter <kbd>⇧</kbd>+<kbd>↩</kbd></i>)."
      ],
      "text/plain": [
       "Cannot show ipywidgets in text"
      ]
     },
     "metadata": {},
     "output_type": "display_data"
    }
   ],
   "source": [
    "import pandas as pd\n",
    "import solara\n",
    "\n",
    "# Load the data from CSV files\n",
    "pronouns_df = pd.read_csv(\"lithuanianapp/lithuanianapp/pronouns.csv\")\n",
    "numbers_df = pd.read_csv(\"lithuanianapp/lithuanianapp/numbers.csv\")\n",
    "\n",
    "# Function to get a random nominative pronoun and a number\n",
    "def get_random_exercise():\n",
    "    nominative_pronoun = pronouns_df.sample(1).iloc[0]\n",
    "    number_row = numbers_df.sample(1).iloc[0]\n",
    "    return nominative_pronoun, number_row\n",
    "\n",
    "# Function to fetch the dative and compound year\n",
    "def get_answer(nominative_pronoun, number_row):\n",
    "    dative = pronouns_df.loc[pronouns_df['nominative'] == nominative_pronoun['nominative'], 'dative'].values[0]\n",
    "    year_phrase = f\"{number_row['neoficialiai']} {number_row['compound']} {number_row['years']}\" if pd.notna(number_row['compound']) else f\"{number_row['neoficialiai']} {number_row['years']}\"\n",
    "    return f\"{dative.title()} {year_phrase}.\"\n",
    "\n",
    "@solara.component\n",
    "def LithuanianGrammarApp():\n",
    "    # State to hold the current exercise\n",
    "    nominative_pronoun, set_nominative_pronoun = solara.use_state(None)\n",
    "    number_row, set_number_row = solara.use_state(None)\n",
    "    show_answer, set_show_answer = solara.use_state(False)\n",
    "    answers, set_answers = solara.use_state([])  # State to hold the history of answers\n",
    "    \n",
    "    if nominative_pronoun is None or number_row is None:\n",
    "        nominative_pronoun, number_row = get_random_exercise()\n",
    "        set_nominative_pronoun(nominative_pronoun)\n",
    "        set_number_row(number_row)\n",
    "\n",
    "    exercise_text = f\"{nominative_pronoun['nominative']}, {number_row['number']}\"\n",
    "    answer_text = get_answer(nominative_pronoun, number_row)\n",
    "    \n",
    "    # Display the exercise\n",
    "    solara.Text(exercise_text)\n",
    "    \n",
    "    # Button to reveal the answer\n",
    "    if solara.Button(\"Reveal Answer\", on_click=lambda: set_show_answer(True)):\n",
    "        if show_answer:\n",
    "            solara.Text(answer_text)\n",
    "            # Buttons to record whether the answer was correct or incorrect\n",
    "            if solara.Button(\"Correct\", on_click=lambda: set_answers(answers + [(exercise_text, answer_text, True)])):\n",
    "                pass\n",
    "            if solara.Button(\"Incorrect\", on_click=lambda: set_answers(answers + [(exercise_text, answer_text, False)])):\n",
    "                pass\n",
    "            \n",
    "            # Button to move to the next question\n",
    "            if solara.Button(\"Next Question\", on_click=lambda: (\n",
    "                set_nominative_pronoun(None), \n",
    "                set_number_row(None), \n",
    "                set_show_answer(False)\n",
    "            )):\n",
    "                pass\n",
    "    \n",
    "    # Display the history of answers\n",
    "    for exercise, answer, correct in answers:\n",
    "        result_text = \"Correct\" if correct else \"Incorrect\"\n",
    "        solara.Text(f\"{exercise} -> {answer} ({result_text})\")\n",
    "\n",
    "# Display the app in the Jupyter Notebook\n",
    "LithuanianGrammarApp()\n"
   ]
  },
  {
   "cell_type": "code",
   "execution_count": 4,
   "id": "90d792a5-e8f0-4894-acf6-df1f422c39b7",
   "metadata": {
    "execution": {
     "iopub.execute_input": "2024-06-13T07:15:25.519836Z",
     "iopub.status.busy": "2024-06-13T07:15:25.519431Z",
     "iopub.status.idle": "2024-06-13T07:15:25.541483Z",
     "shell.execute_reply": "2024-06-13T07:15:25.540778Z",
     "shell.execute_reply.started": "2024-06-13T07:15:25.519806Z"
    }
   },
   "outputs": [
    {
     "data": {
      "application/vnd.jupyter.widget-view+json": {
       "model_id": "9f9dc327b76d4444801ed2354760182a",
       "version_major": 2,
       "version_minor": 0
      },
      "text/html": [
       "Cannot show widget. You probably want to rerun the code cell above (<i>Click in the code cell, and press Shift+Enter <kbd>⇧</kbd>+<kbd>↩</kbd></i>)."
      ],
      "text/plain": [
       "Cannot show ipywidgets in text"
      ]
     },
     "metadata": {},
     "output_type": "display_data"
    }
   ],
   "source": [
    "display(LithuanianGrammarApp())"
   ]
  },
  {
   "cell_type": "code",
   "execution_count": 7,
   "id": "5159f8d4-bccd-4a1f-9603-2deb54ef09ab",
   "metadata": {
    "execution": {
     "iopub.execute_input": "2024-06-13T07:23:03.439622Z",
     "iopub.status.busy": "2024-06-13T07:23:03.439343Z",
     "iopub.status.idle": "2024-06-13T07:23:03.462695Z",
     "shell.execute_reply": "2024-06-13T07:23:03.462243Z",
     "shell.execute_reply.started": "2024-06-13T07:23:03.439592Z"
    }
   },
   "outputs": [
    {
     "data": {
      "application/vnd.jupyter.widget-view+json": {
       "model_id": "4911f87315c74155b46ae4b8589e7708",
       "version_major": 2,
       "version_minor": 0
      },
      "text/html": [
       "Cannot show widget. You probably want to rerun the code cell above (<i>Click in the code cell, and press Shift+Enter <kbd>⇧</kbd>+<kbd>↩</kbd></i>)."
      ],
      "text/plain": [
       "Cannot show ipywidgets in text"
      ]
     },
     "metadata": {},
     "output_type": "display_data"
    }
   ],
   "source": [
    "import pandas as pd\n",
    "import solara\n",
    "\n",
    "# Load the data from CSV files\n",
    "pronouns_df = pd.read_csv(\"lithuanianapp/lithuanianapp/pronouns.csv\")\n",
    "numbers_df = pd.read_csv(\"lithuanianapp/lithuanianapp/numbers.csv\")\n",
    "\n",
    "# Function to get a random nominative pronoun and a number\n",
    "def get_random_exercise():\n",
    "    nominative_pronoun = pronouns_df.sample(1).iloc[0]\n",
    "    number_row = numbers_df.sample(1).iloc[0]\n",
    "    return nominative_pronoun, number_row\n",
    "\n",
    "# Function to fetch the dative and compound year\n",
    "def get_answer(nominative_pronoun, number_row):\n",
    "    dative = pronouns_df.loc[pronouns_df['nominative'] == nominative_pronoun['nominative'], 'dative'].values[0]\n",
    "    year_phrase = f\"{number_row['neoficialiai']} {number_row['compound']} {number_row['years']}\" if pd.notna(number_row['compound']) else f\"{number_row['neoficialiai']} {number_row['years']}\"\n",
    "    return f\"{dative.title()} {year_phrase}.\"\n",
    "\n",
    "@solara.component\n",
    "def LithuanianGrammarApp():\n",
    "    # State to hold the current exercise\n",
    "    nominative_pronoun, set_nominative_pronoun = solara.use_state(None)\n",
    "    number_row, set_number_row = solara.use_state(None)\n",
    "    show_answer, set_show_answer = solara.use_state(False)\n",
    "    answers, set_answers = solara.use_state([])  # State to hold the history of answers\n",
    "    \n",
    "    if nominative_pronoun is None or number_row is None:\n",
    "        nominative_pronoun, number_row = get_random_exercise()\n",
    "        set_nominative_pronoun(nominative_pronoun)\n",
    "        set_number_row(number_row)\n",
    "\n",
    "    exercise_text = f\"{nominative_pronoun['nominative']}, {number_row['number']}\"\n",
    "    answer_text = get_answer(nominative_pronoun, number_row)\n",
    "    \n",
    "\n",
    "    with solara.Column(gap=\"10px\"):\n",
    "        # Display the exercise\n",
    "        solara.Markdown(f\"### Exercise: {exercise_text}\")\n",
    "        \n",
    "        # Button to reveal the answer\n",
    "        if solara.Button(\"Reveal Answer\", on_click=lambda: set_show_answer(True)):\n",
    "            if show_answer:\n",
    "                solara.Markdown(f\"**Answer:** {answer_text}\")\n",
    "                # Buttons to record whether the answer was correct or incorrect\n",
    "                with solara.Row():\n",
    "                    solara.Button(\"Correct\", on_click=lambda: set_answers(answers + [(exercise_text, answer_text, True)]), color='blue')\n",
    "                    solara.Button(\"Incorrect\", on_click=lambda: set_answers(answers + [(exercise_text, answer_text, False)]), color='red')\n",
    "                \n",
    "                # Button to move to the next question\n",
    "                with solara.Row():\n",
    "                    solara.Button(\"Next Question\", on_click=lambda: (\n",
    "                        set_nominative_pronoun(None), \n",
    "                        set_number_row(None), \n",
    "                        set_show_answer(False)\n",
    "                    ))\n",
    "        \n",
    "        # Display the history of answers\n",
    "        solara.Markdown(\"### History of Answers\")\n",
    "        for exercise, answer, correct in answers:\n",
    "            result_text = \"Correct\" if correct else \"Incorrect\"\n",
    "            solara.Markdown(f\"- {exercise} -> {answer} ({result_text})\")\n",
    "\n",
    "# Display the app in the Jupyter Notebook\n",
    "LithuanianGrammarApp()\n"
   ]
  },
  {
   "cell_type": "code",
   "execution_count": 10,
   "id": "98fb79df-07ea-4d55-a286-4a7fe012f8a9",
   "metadata": {
    "execution": {
     "iopub.execute_input": "2024-06-13T16:23:08.602499Z",
     "iopub.status.busy": "2024-06-13T16:23:08.601648Z",
     "iopub.status.idle": "2024-06-13T16:23:08.617660Z",
     "shell.execute_reply": "2024-06-13T16:23:08.616623Z",
     "shell.execute_reply.started": "2024-06-13T16:23:08.602458Z"
    }
   },
   "outputs": [
    {
     "data": {
      "text/plain": [
       "'    number     neoficialiai compound  years\\n0        1            vieni      NaN  metai\\n1        2               du      NaN  metai\\n2        3             trys      NaN  metai\\n3        4           deturi      NaN  metai\\n4        5            penki      NaN  metai\\n5        6             šeši      NaN  metai\\n6        7          septyni      NaN  metai\\n7        8          aštuoni      NaN  metai\\n8        9           devyni      NaN  metai\\n9       10           dešimt      NaN   metų\\n10      11       vienuolika      NaN   metų\\n11      12          dvylika      NaN   metų\\n12      13          trylika      NaN   metų\\n13      14      keturiolika      NaN   metų\\n14      15       penkiolika      NaN   metų\\n15      16        šešiolika      NaN   metų\\n16      17     septyniolika      NaN   metų\\n17      18     aštuoniolika      NaN   metų\\n18      19      devyniolika      NaN   metų\\n19      20        dvidešimt      NaN   metų\\n20      21        dvidešimt    vieni  metai\\n21      22        dvidešimt       du  metai\\n22      23        dvidešimt     trys  metai\\n23      24        dvidešimt   deturi  metai\\n24      25        dvidešimt    penki  metai\\n25      26        dvidešimt     šeši  metai\\n26      27        dvidešimt  septyni  metai\\n27      28        dvidešimt  aštuoni  metai\\n28      29        dvidešimt   devyni  metai\\n29      30       trisdešimt      NaN   metų\\n30      31       trisdešimt    vieni  metai\\n31      32       trisdešimt       du  metai\\n32      33       trisdešimt     trys  metai\\n33      34       trisdešimt   deturi  metai\\n34      35       trisdešimt    penki  metai\\n35      36       trisdešimt     šeši  metai\\n36      37       trisdešimt  septyni  metai\\n37      38       trisdešimt  aštuoni  metai\\n38      39       trisdešimt   devyni  metai\\n39      40   keturiasdešimt      NaN   metų\\n40      41   keturiasdešimt    vieni  metai\\n41      42   keturiasdešimt       du  metai\\n42      43   keturiasdešimt     trys  metai\\n43      44   keturiasdešimt   deturi  metai\\n44      45   keturiasdešimt    penki  metai\\n45      46   keturiasdešimt     šeši  metai\\n46      47   keturiasdešimt  septyni  metai\\n47      48   keturiasdešimt  aštuoni  metai\\n48      49   keturiasdešimt   devyni  metai\\n49      50    penkiasdešimt      NaN   metų\\n50      51    penkiasdešimt    vieni  metai\\n51      52    penkiasdešimt       du  metai\\n52      53    penkiasdešimt     trys  metai\\n53      54    penkiasdešimt   deturi  metai\\n54      55    penkiasdešimt    penki  metai\\n55      56    penkiasdešimt     šeši  metai\\n56      57    penkiasdešimt  septyni  metai\\n57      58    penkiasdešimt  aštuoni  metai\\n58      59    penkiasdešimt   devyni  metai\\n59      60     šešiasdešimt      NaN   metų\\n60      61     šešiasdešimt    vieni  metai\\n61      62     šešiasdešimt       du  metai\\n62      63     šešiasdešimt     trys  metai\\n63      64     šešiasdešimt   deturi  metai\\n64      65     šešiasdešimt    penki  metai\\n65      66     šešiasdešimt     šeši  metai\\n66      67     šešiasdešimt  septyni  metai\\n67      68     šešiasdešimt  aštuoni  metai\\n68      69     šešiasdešimt   devyni  metai\\n69      70  septyniasdešimt      NaN   metų\\n70      71  septyniasdešimt    vieni  metai\\n71      72  septyniasdešimt       du  metai\\n72      73  septyniasdešimt     trys  metai\\n73      74  septyniasdešimt   deturi  metai\\n74      75  septyniasdešimt    penki  metai\\n75      76  septyniasdešimt     šeši  metai\\n76      77  septyniasdešimt  septyni  metai\\n77      78  septyniasdešimt  aštuoni  metai\\n78      79  septyniasdešimt   devyni  metai\\n79      80  aštuoniasdešimt      NaN   metų\\n80      81  aštuoniasdešimt    vieni  metai\\n81      82  aštuoniasdešimt       du  metai\\n82      83  aštuoniasdešimt     trys  metai\\n83      84  aštuoniasdešimt   deturi  metai\\n84      85  aštuoniasdešimt    penki  metai\\n85      86  aštuoniasdešimt     šeši  metai\\n86      87  aštuoniasdešimt  septyni  metai\\n87      88  aštuoniasdešimt  aštuoni  metai\\n88      89  aštuoniasdešimt   devyni  metai\\n89      90   devyniasdešimt      NaN   metų\\n90      91   devyniasdešimt    vieni  metai\\n91      92   devyniasdešimt       du  metai\\n92      93   devyniasdešimt     trys  metai\\n93      94   devyniasdešimt   deturi  metai\\n94      95   devyniasdešimt    penki  metai\\n95      96   devyniasdešimt     šeši  metai\\n96      97   devyniasdešimt  septyni  metai\\n97      98   devyniasdešimt  aštuoni  metai\\n98      99   devyniasdešimt   devyni  metai'"
      ]
     },
     "execution_count": 10,
     "metadata": {},
     "output_type": "execute_result"
    }
   ],
   "source": [
    "numbers_df.to_string()"
   ]
  },
  {
   "cell_type": "code",
   "execution_count": null,
   "id": "7b978ff0-4642-4cf4-b6b3-4a2ca390474a",
   "metadata": {},
   "outputs": [],
   "source": []
  }
 ],
 "metadata": {
  "kernelspec": {
   "display_name": "Python 3 (ipykernel)",
   "language": "python",
   "name": "python3"
  },
  "language_info": {
   "codemirror_mode": {
    "name": "ipython",
    "version": 3
   },
   "file_extension": ".py",
   "mimetype": "text/x-python",
   "name": "python",
   "nbconvert_exporter": "python",
   "pygments_lexer": "ipython3",
   "version": "3.10.14"
  }
 },
 "nbformat": 4,
 "nbformat_minor": 5
}
